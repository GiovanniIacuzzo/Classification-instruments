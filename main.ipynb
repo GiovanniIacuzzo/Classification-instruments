{
 "cells": [
  {
   "cell_type": "code",
   "execution_count": null,
   "id": "a50b6c3c",
   "metadata": {},
   "outputs": [],
   "source": [
    "from utils.train import train_model\n",
    "from utils.evaluate import evaluate_model\n",
    "\n",
    "if __name__ == \"__main__\":\n",
    "    train_model(\"./data/train\", epochs=10, batch_size=16, lr=0.001)\n",
    "    # evaluate_model(\"dataset_split/test\")"
   ]
  }
 ],
 "metadata": {
  "kernelspec": {
   "display_name": "Python 3",
   "language": "python",
   "name": "python3"
  },
  "language_info": {
   "codemirror_mode": {
    "name": "ipython",
    "version": 3
   },
   "file_extension": ".py",
   "mimetype": "text/x-python",
   "name": "python",
   "nbconvert_exporter": "python",
   "pygments_lexer": "ipython3",
   "version": "3.12.2"
  }
 },
 "nbformat": 4,
 "nbformat_minor": 5
}
