{
 "cells": [
  {
   "cell_type": "code",
   "execution_count": null,
   "id": "1d6e631c",
   "metadata": {},
   "outputs": [],
   "source": [
    "import os\n",
    "import shutil\n",
    "import random\n",
    "from pathlib import Path\n",
    "\n",
    "def suddividi_files(input_folder, output_folder_1, output_folder_2, output_folder_3, split_ratios=(0.7, 0.15, 0.15)):\n",
    "    os.makedirs(output_folder_1, exist_ok=True)\n",
    "    os.makedirs(output_folder_2, exist_ok=True)\n",
    "    os.makedirs(output_folder_3, exist_ok=True)\n",
    "\n",
    "    input_folder = Path(input_folder)\n",
    "    all_files = list(input_folder.glob(\"*\"))\n",
    "    \n",
    "    if not all_files:\n",
    "        print(f\"[!] Nessun file trovato nella cartella di input {input_folder}\")\n",
    "        return\n",
    "\n",
    "    random.shuffle(all_files)\n",
    "    \n",
    "    total_files = len(all_files)\n",
    "    split1 = int(total_files * split_ratios[0])\n",
    "    split2 = int(total_files * split_ratios[1])\n",
    "    \n",
    "    files_1 = all_files[:split1]\n",
    "    files_2 = all_files[split1:split1 + split2]\n",
    "    files_3 = all_files[split1 + split2:]\n",
    "\n",
    "    def copia_file(files, destination_folder):\n",
    "        for file in files:\n",
    "            shutil.copy(file, destination_folder)\n",
    "            print(f\"Copiato {file.name} in {destination_folder}\")\n",
    "\n",
    "    copia_file(files_1, output_folder_1)\n",
    "    copia_file(files_2, output_folder_2)\n",
    "    copia_file(files_3, output_folder_3)\n",
    "    \n",
    "    print(\"Suddivisione completata!\")"
   ]
  },
  {
   "cell_type": "code",
   "execution_count": null,
   "id": "1c8c9353",
   "metadata": {},
   "outputs": [],
   "source": [
    "input_folder = \"./chitarra/spettrogrammi\"\n",
    "output_folder_1 = \"./data/train/chitarra/immagini\"   # 70%\n",
    "output_folder_2 = \"./data/test/chitarra/immagini\"    # 15%\n",
    "output_folder_3 = \"./data/val/chitarra/immagini\"     # 15%\n",
    "\n",
    "suddividi_files(input_folder, output_folder_1, output_folder_2, output_folder_3)"
   ]
  }
 ],
 "metadata": {
  "kernelspec": {
   "display_name": "Python 3",
   "language": "python",
   "name": "python3"
  },
  "language_info": {
   "codemirror_mode": {
    "name": "ipython",
    "version": 3
   },
   "file_extension": ".py",
   "mimetype": "text/x-python",
   "name": "python",
   "nbconvert_exporter": "python",
   "pygments_lexer": "ipython3",
   "version": "3.12.2"
  }
 },
 "nbformat": 4,
 "nbformat_minor": 5
}
