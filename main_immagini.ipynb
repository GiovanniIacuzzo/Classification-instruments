{
 "cells": [
  {
   "cell_type": "code",
   "execution_count": 4,
   "id": "822aed94",
   "metadata": {},
   "outputs": [
    {
     "name": "stdout",
     "output_type": "stream",
     "text": [
      "Epoch [1/10], Train Loss: 1.5062, Train Acc: 53.15%, Val Loss: 0.4350, Val Acc: 85.11%\n",
      "Epoch [2/10], Train Loss: 0.1793, Train Acc: 93.24%, Val Loss: 0.1628, Val Acc: 92.55%\n",
      "Epoch [3/10], Train Loss: 0.2458, Train Acc: 92.54%, Val Loss: 0.5563, Val Acc: 82.98%\n",
      "Epoch [4/10], Train Loss: 0.1750, Train Acc: 92.31%, Val Loss: 0.1237, Val Acc: 95.74%\n",
      "Epoch [5/10], Train Loss: 0.0315, Train Acc: 98.83%, Val Loss: 0.0358, Val Acc: 98.94%\n",
      "Epoch [6/10], Train Loss: 0.0157, Train Acc: 99.77%, Val Loss: 0.0249, Val Acc: 98.94%\n",
      "Epoch [7/10], Train Loss: 0.0062, Train Acc: 99.77%, Val Loss: 0.0040, Val Acc: 100.00%\n",
      "Epoch [8/10], Train Loss: 0.0024, Train Acc: 100.00%, Val Loss: 0.0108, Val Acc: 100.00%\n",
      "Epoch [9/10], Train Loss: 0.0017, Train Acc: 100.00%, Val Loss: 0.0176, Val Acc: 98.94%\n",
      "Epoch [10/10], Train Loss: 0.0006, Train Acc: 100.00%, Val Loss: 0.0033, Val Acc: 100.00%\n",
      "Best Validation Accuracy: 100.00%\n"
     ]
    }
   ],
   "source": [
    "import torch\n",
    "import torch.optim as optim\n",
    "import torch.nn as nn\n",
    "from torch.utils.data import DataLoader\n",
    "from utils.train_immagini import train_model\n",
    "from utils.dataset_immagini import ImmaginiDataset\n",
    "from models.model_immagini import CNNModel\n",
    "\n",
    "if __name__ == \"__main__\":\n",
    "    data_dir = './data'\n",
    "    batch_size = 32\n",
    "    img_size = 224\n",
    "    num_epochs = 10\n",
    "    learning_rate = 0.001\n",
    "    device = torch.device('cuda' if torch.cuda.is_available() else 'cpu')\n",
    "\n",
    "    train_dataset = ImmaginiDataset(data_dir, split=\"train\", img_size=img_size)\n",
    "    val_dataset = ImmaginiDataset(data_dir, split=\"val\", img_size=img_size)\n",
    "\n",
    "    train_loader = DataLoader(train_dataset, batch_size=batch_size, shuffle=True)\n",
    "    val_loader = DataLoader(val_dataset, batch_size=batch_size, shuffle=False)\n",
    "\n",
    "    model = CNNModel(num_classes=len(train_dataset.classes)).to(device)\n",
    "    criterion = nn.CrossEntropyLoss()\n",
    "    optimizer = optim.Adam(model.parameters(), lr=learning_rate)\n",
    "    \n",
    "    train_model(train_loader, val_loader, model, criterion, optimizer, num_epochs=num_epochs, device=device)"
   ]
  }
 ],
 "metadata": {
  "kernelspec": {
   "display_name": "Python 3",
   "language": "python",
   "name": "python3"
  },
  "language_info": {
   "codemirror_mode": {
    "name": "ipython",
    "version": 3
   },
   "file_extension": ".py",
   "mimetype": "text/x-python",
   "name": "python",
   "nbconvert_exporter": "python",
   "pygments_lexer": "ipython3",
   "version": "3.12.2"
  }
 },
 "nbformat": 4,
 "nbformat_minor": 5
}
