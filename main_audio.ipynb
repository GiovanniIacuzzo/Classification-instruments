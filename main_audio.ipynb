{
 "cells": [
  {
   "cell_type": "code",
   "execution_count": null,
   "id": "a50b6c3c",
   "metadata": {},
   "outputs": [
    {
     "name": "stdout",
     "output_type": "stream",
     "text": [
      "<utils.dataset_audio.AudioDataset object at 0x11a900230>\n"
     ]
    }
   ],
   "source": [
    "import torch.optim as optim\n",
    "import torch.nn as nn\n",
    "import torch\n",
    "from torch.utils.data import DataLoader\n",
    "from utils.train_audio import train_model\n",
    "from utils.dataset_audio import AudioDataset\n",
    "\n",
    "if __name__ == \"__main__\":\n",
    "    data_dir = './data'\n",
    "    batch_size = 32\n",
    "    img_size = 224\n",
    "    num_epochs = 50\n",
    "    learning_rate = 0.001\n",
    "    patience = 5\n",
    "    device = torch.device('cuda' if torch.cuda.is_available() else 'cpu')\n",
    "\n",
    "    torch.manual_seed(42)\n",
    "\n",
    "    train_dataset = AudioDataset(data_dir, split=\"train\", sample_rate=16000, duration=3, transform=None, shuffle=True)\n",
    "    # val_dataset = AudioDataset(data_dir, split=\"val\", img_size=img_size)\n",
    "\n",
    "    train_loader = DataLoader(train_dataset, batch_size=batch_size, shuffle=True)\n",
    "    # val_loader = DataLoader(val_dataset, batch_size=batch_size, shuffle=False)\n"
   ]
  }
 ],
 "metadata": {
  "kernelspec": {
   "display_name": "Python 3",
   "language": "python",
   "name": "python3"
  },
  "language_info": {
   "codemirror_mode": {
    "name": "ipython",
    "version": 3
   },
   "file_extension": ".py",
   "mimetype": "text/x-python",
   "name": "python",
   "nbconvert_exporter": "python",
   "pygments_lexer": "ipython3",
   "version": "3.12.2"
  }
 },
 "nbformat": 4,
 "nbformat_minor": 5
}
