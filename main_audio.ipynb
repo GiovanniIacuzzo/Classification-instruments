{
 "cells": [
  {
   "cell_type": "code",
   "execution_count": 1,
   "id": "a50b6c3c",
   "metadata": {},
<<<<<<< HEAD
   "outputs": [
    {
     "name": "stdout",
     "output_type": "stream",
     "text": [
      "Usando il dispositivo: cpu\n",
      "Caricamento dei dataset...\n",
      "Inizio training...\n",
      "\n",
      "Epoch 1/20\n"
     ]
    },
    {
     "name": "stderr",
     "output_type": "stream",
     "text": [
      "                                                           \r"
     ]
    },
    {
     "name": "stdout",
     "output_type": "stream",
     "text": [
      "Train Loss: 1.6191, Acc: 0.1865 | Val Loss: 1.6089, Acc: 0.2128\n",
      "Modello salvato (nuovo best)\n",
      "\n",
      "Epoch 2/20\n"
     ]
    },
    {
     "name": "stderr",
     "output_type": "stream",
     "text": [
      "                                                           \r"
     ]
    },
    {
     "name": "stdout",
     "output_type": "stream",
     "text": [
      "Train Loss: 1.6126, Acc: 0.1958 | Val Loss: 1.6087, Acc: 0.2128\n",
      "\n",
      "Epoch 3/20\n"
     ]
    },
    {
     "name": "stderr",
     "output_type": "stream",
     "text": [
      "                                                           \r"
     ]
    },
    {
     "name": "stdout",
     "output_type": "stream",
     "text": [
      "Train Loss: 1.6153, Acc: 0.1981 | Val Loss: 1.6005, Acc: 0.2128\n",
      "\n",
      "Epoch 4/20\n"
     ]
    },
    {
     "name": "stderr",
     "output_type": "stream",
     "text": [
      "                                                           \r"
     ]
    },
    {
     "name": "stdout",
     "output_type": "stream",
     "text": [
      "Train Loss: 1.6315, Acc: 0.1888 | Val Loss: 1.6075, Acc: 0.2128\n",
      "\n",
      "Epoch 5/20\n"
     ]
    },
    {
     "name": "stderr",
     "output_type": "stream",
     "text": [
      "                                                           \r"
     ]
    },
    {
     "name": "stdout",
     "output_type": "stream",
     "text": [
      "Train Loss: 1.6148, Acc: 0.1865 | Val Loss: 1.6089, Acc: 0.2128\n",
      "\n",
      "Epoch 6/20\n"
     ]
    },
    {
     "name": "stderr",
     "output_type": "stream",
     "text": [
      "                                                           \r"
     ]
    },
    {
     "name": "stdout",
     "output_type": "stream",
     "text": [
      "Train Loss: 1.6112, Acc: 0.2214 | Val Loss: 1.6087, Acc: 0.2021\n",
      "\n",
      "Epoch 7/20\n"
     ]
    },
    {
     "name": "stderr",
     "output_type": "stream",
     "text": [
      "                                                           \r"
     ]
    },
    {
     "name": "stdout",
     "output_type": "stream",
     "text": [
      "Train Loss: 1.6103, Acc: 0.2098 | Val Loss: 1.6090, Acc: 0.2128\n",
      "\n",
      "Epoch 8/20\n"
     ]
    },
    {
     "name": "stderr",
     "output_type": "stream",
     "text": [
      "                                                           \r"
     ]
    },
    {
     "name": "stdout",
     "output_type": "stream",
     "text": [
      "Train Loss: 1.6097, Acc: 0.2214 | Val Loss: 1.6089, Acc: 0.2128\n",
      "\n",
      "Epoch 9/20\n"
     ]
    },
    {
     "name": "stderr",
     "output_type": "stream",
     "text": [
      "                                                           \r"
     ]
    },
    {
     "name": "stdout",
     "output_type": "stream",
     "text": [
      "Train Loss: 1.6095, Acc: 0.2261 | Val Loss: 1.6081, Acc: 0.2128\n",
      "\n",
      "Epoch 10/20\n"
     ]
    },
    {
     "name": "stderr",
     "output_type": "stream",
     "text": [
      "                                                           \r"
     ]
    },
    {
     "name": "stdout",
     "output_type": "stream",
     "text": [
      "Train Loss: 1.6103, Acc: 0.2121 | Val Loss: 1.6054, Acc: 0.2128\n",
      "\n",
      "Epoch 11/20\n"
     ]
    },
    {
     "name": "stderr",
     "output_type": "stream",
     "text": [
      "                                                           \r"
     ]
    },
    {
     "name": "stdout",
     "output_type": "stream",
     "text": [
      "Train Loss: 1.6017, Acc: 0.2191 | Val Loss: 1.6002, Acc: 0.2128\n",
      "\n",
      "Epoch 12/20\n"
     ]
    },
    {
     "name": "stderr",
     "output_type": "stream",
     "text": [
      "                                                           \r"
     ]
    },
    {
     "name": "stdout",
     "output_type": "stream",
     "text": [
      "Train Loss: 1.6002, Acc: 0.2471 | Val Loss: 1.6086, Acc: 0.2234\n",
      "Modello salvato (nuovo best)\n",
      "\n",
      "Epoch 13/20\n"
     ]
    },
    {
     "name": "stderr",
     "output_type": "stream",
     "text": [
      "                                                           \r"
     ]
    },
    {
     "name": "stdout",
     "output_type": "stream",
     "text": [
      "Train Loss: 1.6116, Acc: 0.2145 | Val Loss: 1.6087, Acc: 0.1702\n",
      "\n",
      "Epoch 14/20\n"
     ]
    },
    {
     "name": "stderr",
     "output_type": "stream",
     "text": [
      "                                                           \r"
     ]
    },
    {
     "name": "stdout",
     "output_type": "stream",
     "text": [
      "Train Loss: 1.6064, Acc: 0.2354 | Val Loss: 1.6098, Acc: 0.2766\n",
      "Modello salvato (nuovo best)\n",
      "\n",
      "Epoch 15/20\n"
     ]
    },
    {
     "name": "stderr",
     "output_type": "stream",
     "text": [
      "                                                           \r"
     ]
    },
    {
     "name": "stdout",
     "output_type": "stream",
     "text": [
      "Train Loss: 1.5968, Acc: 0.2587 | Val Loss: 1.5631, Acc: 0.2872\n",
      "Modello salvato (nuovo best)\n",
      "\n",
      "Epoch 16/20\n"
     ]
    },
    {
     "name": "stderr",
     "output_type": "stream",
     "text": [
      "                                                           \r"
     ]
    },
    {
     "name": "stdout",
     "output_type": "stream",
     "text": [
      "Train Loss: 1.5928, Acc: 0.2354 | Val Loss: 1.6150, Acc: 0.2340\n",
      "\n",
      "Epoch 17/20\n"
     ]
    },
    {
     "name": "stderr",
     "output_type": "stream",
     "text": [
      "                                                           \r"
     ]
    },
    {
     "name": "stdout",
     "output_type": "stream",
     "text": [
      "Train Loss: 1.6048, Acc: 0.2168 | Val Loss: 1.6118, Acc: 0.1809\n",
      "\n",
      "Epoch 18/20\n"
     ]
    },
    {
     "name": "stderr",
     "output_type": "stream",
     "text": [
      "                                                           \r"
     ]
    },
    {
     "name": "stdout",
     "output_type": "stream",
     "text": [
      "Train Loss: nan, Acc: 0.2145 | Val Loss: nan, Acc: 0.1915\n",
      "\n",
      "Epoch 19/20\n"
     ]
    },
    {
     "name": "stderr",
     "output_type": "stream",
     "text": [
      "                                                           \r"
     ]
    },
    {
     "name": "stdout",
     "output_type": "stream",
     "text": [
      "Train Loss: nan, Acc: 0.1958 | Val Loss: nan, Acc: 0.1915\n",
      "\n",
      "Epoch 20/20\n"
     ]
    },
    {
     "name": "stderr",
     "output_type": "stream",
     "text": [
      "c:\\Users\\Samanta\\Desktop\\Giovanni\\Classification-instruments\\utils\\test_audio.py:7: FutureWarning: You are using `torch.load` with `weights_only=False` (the current default value), which uses the default pickle module implicitly. It is possible to construct malicious pickle data which will execute arbitrary code during unpickling (See https://github.com/pytorch/pytorch/blob/main/SECURITY.md#untrusted-models for more details). In a future release, the default value for `weights_only` will be flipped to `True`. This limits the functions that could be executed during unpickling. Arbitrary objects will no longer be allowed to be loaded via this mode unless they are explicitly allowlisted by the user via `torch.serialization.add_safe_globals`. We recommend you start setting `weights_only=True` for any use case where you don't have full control of the loaded file. Please open an issue on GitHub for any issues related to this experimental feature.\n",
      "  model.load_state_dict(torch.load(model_path))\n"
     ]
    },
    {
     "name": "stdout",
     "output_type": "stream",
     "text": [
      "Train Loss: nan, Acc: 0.1958 | Val Loss: nan, Acc: 0.1915\n",
      "\n",
      "Fine training. Miglior acc. validazione: 0.2872\n",
      "Test finale sul dataset di test...\n"
     ]
    },
    {
     "name": "stderr",
     "output_type": "stream",
     "text": [
      "Testing: 100%|██████████| 23/23 [00:27<00:00,  1.20s/it]"
     ]
    },
    {
     "name": "stdout",
     "output_type": "stream",
     "text": [
      "\n",
      "Accuracy sul test set: 0.2527\n",
      "Salvataggio log...\n"
     ]
    },
    {
     "name": "stderr",
     "output_type": "stream",
     "text": [
      "\n"
     ]
    }
   ],
=======
   "outputs": [],
>>>>>>> 4b5c49c61060d744e170c31229a814917aa51a11
   "source": [
    "import torch\n",
    "from torch.utils.data import DataLoader\n",
    "from utils.train_audio import train_model\n",
    "from utils.dataset_audio import AudioDataset\n",
    "from utils.dataset_audio import collate_fn\n",
    "from models.model_audio import RNN\n",
    "from utils.test_audio import test_model\n",
    "from utils.predict_audio import log_results, plot_metrics, plot_confusion_matrix\n",
    "\n",
    "if __name__ == \"__main__\":\n",
    "    root_data = \"data\"\n",
    "    batch_size = 16\n",
    "    epochs = 20\n",
    "    learning_rate = 1e-3\n",
    "    sample_rate = 16000\n",
    "    save_path = \"best_model.pth\"\n",
    "    log_file = \"log.txt\"\n",
    "    bidirectional = True\n",
    "\n",
    "    device = \"cuda\" if torch.cuda.is_available() else \"cpu\"\n",
    "    print(f\"Usando il dispositivo: {device}\")\n",
    "\n",
    "    print(\"Caricamento dei dataset...\")\n",
    "    train_dataset = AudioDataset(root_data, split=\"train\", sample_rate=sample_rate)\n",
    "    val_dataset = AudioDataset(root_data, split=\"val\", sample_rate=sample_rate)\n",
    "    test_dataset = AudioDataset(root_data, split=\"test\", sample_rate=sample_rate)\n",
    "\n",
    "    label_mapping = train_dataset.get_label_mapping()\n",
    "    num_classes = len(label_mapping)\n",
    "\n",
    "    train_loader = DataLoader(train_dataset, batch_size=batch_size, shuffle=True, collate_fn=collate_fn, num_workers=4, pin_memory=True)\n",
    "    val_loader = DataLoader(val_dataset, batch_size=batch_size, shuffle=False, collate_fn=collate_fn, num_workers=4, pin_memory=True)\n",
    "    test_loader = DataLoader(test_dataset, batch_size=batch_size, shuffle=False, collate_fn=collate_fn, num_workers=4, pin_memory=True)\n",
    "\n",
    "    model = RNN(\n",
    "        input_size=1,\n",
    "        hidden_size=128,\n",
    "        num_layers=3,\n",
    "        num_classes=num_classes,\n",
    "        bidirectional=bidirectional\n",
    "    )\n",
    "\n",
    "    print(\"Inizio training...\")\n",
    "    train_loss, val_loss, train_acc, val_acc = train_model(\n",
    "        model, train_loader, val_loader,\n",
    "        num_epochs=epochs, lr=learning_rate,\n",
    "        device=device, save_path=save_path\n",
    "    )\n",
    "\n",
    "    plot_metrics(train_loss, val_loss, train_acc, val_acc)\n",
    "    print(\"Test finale sul dataset di test...\")\n",
    "    test_acc, y_true, y_pred = test_model(model, test_loader, device=device, model_path=save_path)\n",
    "    plot_confusion_matrix(y_true, y_pred, class_names=list(label_mapping.keys()))\n",
    "\n",
    "\n",
    "    print(\"Salvataggio log...\")\n",
    "    log_results(log_file, final_test_accuracy=test_acc, epochs=epochs, learning_rate=learning_rate)\n",
    "\n",
    "    # predict_single_file(model, \"esempio.wav\", label_mapping, device=device, sample_rate=sample_rate, model_path=save_path)"
   ]
  }
 ],
 "metadata": {
  "kernelspec": {
   "display_name": "strumenti",
   "language": "python",
   "name": "python3"
  },
  "language_info": {
   "codemirror_mode": {
    "name": "ipython",
    "version": 3
   },
   "file_extension": ".py",
   "mimetype": "text/x-python",
   "name": "python",
   "nbconvert_exporter": "python",
   "pygments_lexer": "ipython3",
   "version": "3.10.16"
  }
 },
 "nbformat": 4,
 "nbformat_minor": 5
}
