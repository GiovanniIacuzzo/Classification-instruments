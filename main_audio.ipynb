{
 "cells": [
  {
   "cell_type": "code",
   "execution_count": null,
   "id": "a50b6c3c",
   "metadata": {},
   "outputs": [
    {
     "name": "stderr",
     "output_type": "stream",
     "text": [
      "/Library/Frameworks/Python.framework/Versions/3.12/lib/python3.12/site-packages/torch/utils/_pytree.py:185: FutureWarning: optree is installed but the version is too old to support PyTorch Dynamo in C++ pytree. C++ pytree support is disabled. Please consider upgrading optree using `python3 -m pip install --upgrade 'optree>=0.13.0'`.\n",
      "  warnings.warn(\n"
     ]
    },
    {
     "name": "stdout",
     "output_type": "stream",
     "text": [
      "Usando il dispositivo: cpu\n",
      "Caricamento dei dataset...\n",
      "Inizio training...\n",
      "\n",
      "Epoch 1/20\n"
     ]
    },
    {
     "name": "stderr",
     "output_type": "stream",
     "text": [
      "Training:   0%|          | 0/14 [00:00<?, ?it/s]"
     ]
    },
    {
     "ename": "",
     "evalue": "",
     "output_type": "error",
     "traceback": [
      "\u001b[1;31mSi è verificato un arresto anomalo del Kernel durante l'esecuzione del codice nella cella attiva o in una cella precedente. \n",
      "\u001b[1;31mEsaminare il codice nelle celle per identificare una possibile causa dell'errore. \n",
      "\u001b[1;31mPer altre informazioni, fare clic<a href='https://aka.ms/vscodeJupyterKernelCrash'>qui</a>. \n",
      "\u001b[1;31mPer ulteriori dettagli, visualizzare Jupyter <a href='command:jupyter.viewOutput'>log</a>."
     ]
    }
   ],
   "source": [
    "import torch\n",
    "from torch.utils.data import DataLoader\n",
    "from utils.train_audio import train_model\n",
    "from utils.dataset_audio import AudioDataset\n",
    "from utils.dataset_audio import collate_fn\n",
    "from models.model_audio import RNN\n",
    "from utils.test_audio import test_model\n",
    "from utils.predict_audio import log_results\n",
    "\n",
    "if __name__ == \"__main__\":\n",
    "    root_data = \"data\"\n",
    "    batch_size = 32\n",
    "    epochs = 20\n",
    "    learning_rate = 1e-3\n",
    "    sample_rate = 16000\n",
    "    save_path = \"best_model.pth\"\n",
    "    log_file = \"log.txt\"\n",
    "    bidirectional = True\n",
    "\n",
    "    device = \"cuda\" if torch.cuda.is_available() else \"cpu\"\n",
    "    print(f\"Usando il dispositivo: {device}\")\n",
    "\n",
    "    print(\"Caricamento dei dataset...\")\n",
    "    train_dataset = AudioDataset(root_data, split=\"train\", sample_rate=sample_rate)\n",
    "    val_dataset = AudioDataset(root_data, split=\"val\", sample_rate=sample_rate)\n",
    "    test_dataset = AudioDataset(root_data, split=\"test\", sample_rate=sample_rate)\n",
    "\n",
    "    label_mapping = train_dataset.get_label_mapping()\n",
    "    num_classes = len(label_mapping)\n",
    "\n",
    "    train_loader = DataLoader(train_dataset, batch_size=batch_size, shuffle=True, collate_fn=collate_fn)\n",
    "    val_loader = DataLoader(val_dataset, batch_size=batch_size, shuffle=False, collate_fn=collate_fn)\n",
    "    test_loader = DataLoader(test_dataset, batch_size=batch_size, shuffle=False, collate_fn=collate_fn)\n",
    "\n",
    "    model = RNN(\n",
    "        input_size=1,\n",
    "        hidden_size=128,\n",
    "        num_layers=3,\n",
    "        num_classes=num_classes,\n",
    "        bidirectional=bidirectional\n",
    "    )\n",
    "\n",
    "    print(\"Inizio training...\")\n",
    "    train_model(model, train_loader, val_loader, num_epochs=epochs, lr=learning_rate, device=device, save_path=save_path)\n",
    "\n",
    "    print(\"Test finale sul dataset di test...\")\n",
    "    test_acc = test_model(model, test_loader, device=device, model_path=save_path)\n",
    "\n",
    "    print(\"Salvataggio log...\")\n",
    "    log_results(log_file, final_test_accuracy=test_acc, epochs=epochs, learning_rate=learning_rate)\n",
    "\n",
    "    # predict_single_file(model, \"esempio.wav\", label_mapping, device=device, sample_rate=sample_rate, model_path=save_path)"
   ]
  }
 ],
 "metadata": {
  "kernelspec": {
   "display_name": "Python 3",
   "language": "python",
   "name": "python3"
  },
  "language_info": {
   "codemirror_mode": {
    "name": "ipython",
    "version": 3
   },
   "file_extension": ".py",
   "mimetype": "text/x-python",
   "name": "python",
   "nbconvert_exporter": "python",
   "pygments_lexer": "ipython3",
   "version": "3.12.2"
  }
 },
 "nbformat": 4,
 "nbformat_minor": 5
}
